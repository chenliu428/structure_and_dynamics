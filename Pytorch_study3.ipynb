{
 "cells": [
  {
   "cell_type": "code",
   "execution_count": null,
   "metadata": {},
   "outputs": [],
   "source": [
    "import numpy as np\n",
    "import scipy as scp\n",
    "import math as ma\n",
    "import matplotlib.cm as cm\n",
    "import matplotlib.pyplot as plt\n",
    "import sys\n",
    "import os.path\n",
    "import imp\n",
    "import json\n",
    "from scipy.optimize import curve_fit\n",
    "\n",
    "import sklearn.cluster as skcltr\n",
    "import sklearn.linear_model as skl_linear\n",
    "\n",
    "import torch\n",
    "import torch.nn as nn\n",
    "import torch.nn.functional as nF\n",
    "import torchvision\n",
    "import torchvision.transforms as transforms\n",
    "from torch.utils.data import Dataset\n",
    "from torch.utils.data import DataLoader\n",
    "from torchvision import datasets\n",
    "from torchvision.transforms import ToTensor\n",
    "\n",
    "# for data loading\n",
    "import data_read as dr \n",
    "\n",
    "# for cross-validation data preparation \n",
    "import data_prep_crossvalid as dxv\n",
    "\n",
    "# handmade linear regressors\n",
    "import simpleLinearReg as slr\n",
    "\n",
    "# import functions from other training methods\n",
    "import GaussianLH_Panelty_RidgeLasso_MAP as glh_map\n",
    "\n",
    "imp.reload(dr)\n",
    "imp.reload(dxv)\n",
    "imp.reload(slr)\n",
    "imp.reload(glh_map)"
   ]
  },
  {
   "cell_type": "code",
   "execution_count": null,
   "metadata": {},
   "outputs": [],
   "source": [
    "training_data = datasets.FashionMNIST(\n",
    "    root=\"data\",\n",
    "    train=True,\n",
    "    download=True,\n",
    "    transform=ToTensor()\n",
    ")"
   ]
  },
  {
   "cell_type": "code",
   "execution_count": null,
   "metadata": {},
   "outputs": [],
   "source": [
    "type(training_data)\n",
    "# training_data.__dict__\n",
    "type(training_data.data)\n",
    "print(training_data.data.shape)\n",
    "# training_data[0][0].shape\n",
    "training_data_loader = DataLoader(training_data, batch_size=2, shuffle=False)\n",
    "training_data_loader.__dict__\n",
    "for i, item in enumerate(training_data_loader):\n",
    "    print(type(item), ' : ', item )\n",
    "    print(type(item[0]))\n",
    "    print(item[0].shape)\n",
    "    if i>10: break"
   ]
  },
  {
   "cell_type": "code",
   "execution_count": null,
   "metadata": {},
   "outputs": [],
   "source": [
    "print(type(training_data_loader.dataset))\n",
    "print(type(training_data))\n"
   ]
  },
  {
   "cell_type": "code",
   "execution_count": null,
   "metadata": {},
   "outputs": [],
   "source": [
    "raw_data_tnsr = torch.tensor([[item for i in range(4)] for item in range(10)] )\n",
    "print(raw_data_tnsr)\n",
    "raw_dataset = torch.utils.data.TensorDataset(raw_data_tnsr)\n",
    "print(raw_dataset)"
   ]
  },
  {
   "cell_type": "code",
   "execution_count": null,
   "metadata": {},
   "outputs": [],
   "source": [
    "raw_data_loader = DataLoader(raw_dataset, batch_size=2, shuffle=1)\n",
    "# raw_data_loader.__dict__"
   ]
  },
  {
   "cell_type": "code",
   "execution_count": null,
   "metadata": {},
   "outputs": [],
   "source": [
    "for item in raw_data_loader:\n",
    "    print(type(item), ' : ', item )\n",
    "    print(type(item[0]))"
   ]
  },
  {
   "cell_type": "code",
   "execution_count": 75,
   "metadata": {},
   "outputs": [
    {
     "data": {
      "text/plain": [
       "{'tensors': (tensor([[0, 0, 0, 0],\n",
       "          [1, 1, 1, 1],\n",
       "          [2, 2, 2, 2],\n",
       "          [3, 3, 3, 3],\n",
       "          [4, 4, 4, 4],\n",
       "          [5, 5, 5, 5],\n",
       "          [6, 6, 6, 6],\n",
       "          [7, 7, 7, 7],\n",
       "          [8, 8, 8, 8],\n",
       "          [9, 9, 9, 9]]),)}"
      ]
     },
     "execution_count": 75,
     "metadata": {},
     "output_type": "execute_result"
    }
   ],
   "source": [
    "raw_dataset.__dict__"
   ]
  },
  {
   "cell_type": "code",
   "execution_count": 76,
   "metadata": {},
   "outputs": [],
   "source": [
    "batch_size = 100\n",
    "learning_rate = 0.001\n",
    "\n",
    "# MNIST dataset \n",
    "train_dataset = torchvision.datasets.MNIST(root='./data', \n",
    "                                           train=True, \n",
    "                                           transform=transforms.ToTensor(),  \n",
    "                                           download=True)\n",
    "\n",
    "test_dataset = torchvision.datasets.MNIST(root='./data', \n",
    "                                          train=False, \n",
    "                                          transform=transforms.ToTensor())\n",
    "\n",
    "# Data loader\n",
    "train_loader = torch.utils.data.DataLoader(dataset=train_dataset, \n",
    "                                           batch_size=batch_size, \n",
    "                                           shuffle=True)\n",
    "\n",
    "test_loader = torch.utils.data.DataLoader(dataset=test_dataset, \n",
    "                                          batch_size=batch_size, \n",
    "                                          shuffle=False)"
   ]
  },
  {
   "cell_type": "code",
   "execution_count": 78,
   "metadata": {},
   "outputs": [],
   "source": [
    "for i, (images, labels) in enumerate(train_loader):\n",
    "    if i>1: break"
   ]
  },
  {
   "cell_type": "code",
   "execution_count": 85,
   "metadata": {},
   "outputs": [
    {
     "name": "stdout",
     "output_type": "stream",
     "text": [
      "<class 'torch.Tensor'>\n",
      "torch.Size([100, 1, 28, 28])\n",
      "torch.Size([100, 784])\n"
     ]
    }
   ],
   "source": [
    "print(type(images))\n",
    "print(images.shape)\n",
    "aa = images.reshape(-1, 28*28)\n",
    "print(aa.shape)"
   ]
  },
  {
   "cell_type": "code",
   "execution_count": 86,
   "metadata": {},
   "outputs": [
    {
     "data": {
      "text/plain": [
       "tensor([7, 6, 0, 2, 4, 6, 5, 6, 9, 1, 2, 5, 6, 9, 2, 8, 0, 1, 2, 0, 0, 7, 0, 9,\n",
       "        6, 6, 2, 3, 8, 2, 1, 4, 0, 4, 7, 6, 7, 3, 7, 7, 0, 6, 9, 9, 9, 6, 4, 3,\n",
       "        5, 9, 9, 8, 4, 4, 2, 7, 3, 8, 6, 2, 3, 2, 2, 5, 8, 9, 8, 9, 7, 8, 0, 2,\n",
       "        7, 8, 8, 9, 6, 2, 5, 9, 1, 8, 5, 5, 6, 3, 6, 0, 9, 3, 8, 7, 3, 8, 9, 1,\n",
       "        9, 0, 1, 0])"
      ]
     },
     "execution_count": 86,
     "metadata": {},
     "output_type": "execute_result"
    }
   ],
   "source": [
    "labels"
   ]
  },
  {
   "cell_type": "code",
   "execution_count": 87,
   "metadata": {},
   "outputs": [],
   "source": [
    "l1 = nn.Linear(4,1)\n",
    "l2 = nn.Linear(4,2)\n",
    "\n",
    "f_tnrs = torch.randn(3,4)"
   ]
  },
  {
   "cell_type": "code",
   "execution_count": 88,
   "metadata": {},
   "outputs": [
    {
     "data": {
      "text/plain": [
       "tensor([[ 0.5721, -0.5435, -0.9314,  0.0944],\n",
       "        [ 0.8518, -0.4941,  1.0365, -1.0864],\n",
       "        [-1.3017,  0.4555,  0.3946, -1.3834]])"
      ]
     },
     "execution_count": 88,
     "metadata": {},
     "output_type": "execute_result"
    }
   ],
   "source": [
    "f_tnrs"
   ]
  },
  {
   "cell_type": "code",
   "execution_count": 89,
   "metadata": {},
   "outputs": [
    {
     "data": {
      "text/plain": [
       "tensor([[-0.2845],\n",
       "        [ 0.9348],\n",
       "        [ 1.0981]], grad_fn=<AddmmBackward0>)"
      ]
     },
     "execution_count": 89,
     "metadata": {},
     "output_type": "execute_result"
    }
   ],
   "source": [
    "l1(f_tnrs)"
   ]
  },
  {
   "cell_type": "code",
   "execution_count": 94,
   "metadata": {},
   "outputs": [
    {
     "name": "stdout",
     "output_type": "stream",
     "text": [
      "Parameter containing:\n",
      "tensor([[-0.3621, -0.4835,  0.4357, -0.4124]], requires_grad=True)\n",
      "<class 'torch.nn.parameter.Parameter'>\n",
      "{}\n"
     ]
    }
   ],
   "source": [
    "print(l1.weight)\n",
    "print(type(l1.weight))\n",
    "print(l1.weight.__dict__)"
   ]
  },
  {
   "cell_type": "code",
   "execution_count": 111,
   "metadata": {},
   "outputs": [
    {
     "name": "stdout",
     "output_type": "stream",
     "text": [
      "tensor(1.0981)\n",
      "0.10465312004089355\n"
     ]
    }
   ],
   "source": [
    "print((l1.weight[0].detach()*f_tnrs[2,:]).sum() + l1.bias[0].detach().item())\n",
    "print(l1.bias[0].detach().item())"
   ]
  },
  {
   "cell_type": "code",
   "execution_count": 113,
   "metadata": {},
   "outputs": [],
   "source": [
    "y1=l1(f_tnrs)"
   ]
  },
  {
   "cell_type": "code",
   "execution_count": 112,
   "metadata": {},
   "outputs": [],
   "source": [
    "lsfn = nn.MSELoss()\n",
    "t_tnsr = torch.tensor([-0.2,0.9,1.0])"
   ]
  },
  {
   "cell_type": "code",
   "execution_count": 131,
   "metadata": {},
   "outputs": [
    {
     "name": "stdout",
     "output_type": "stream",
     "text": [
      "tensor(0.6764, grad_fn=<MseLossBackward0>)\n"
     ]
    },
    {
     "name": "stderr",
     "output_type": "stream",
     "text": [
      "/Library/Frameworks/Python.framework/Versions/3.9/lib/python3.9/site-packages/torch/nn/modules/loss.py:535: UserWarning: Using a target size (torch.Size([3])) that is different to the input size (torch.Size([3, 1])). This will likely lead to incorrect results due to broadcasting. Please ensure they have the same size.\n",
      "  return F.mse_loss(input, target, reduction=self.reduction)\n"
     ]
    }
   ],
   "source": [
    "err = lsfn(y1, t_tnsr)\n",
    "print(err)"
   ]
  },
  {
   "cell_type": "code",
   "execution_count": 118,
   "metadata": {},
   "outputs": [
    {
     "name": "stdout",
     "output_type": "stream",
     "text": [
      "tensor([[-0.2845],\n",
      "        [ 0.9348],\n",
      "        [ 1.0981]], grad_fn=<AddmmBackward0>)\n",
      "tensor([-0.2000,  0.9000,  1.0000])\n"
     ]
    }
   ],
   "source": [
    "print(y1)\n",
    "print(t_tnsr)"
   ]
  },
  {
   "cell_type": "code",
   "execution_count": 132,
   "metadata": {},
   "outputs": [
    {
     "data": {
      "text/plain": [
       "tensor(0.6764, grad_fn=<MeanBackward0>)"
      ]
     },
     "execution_count": 132,
     "metadata": {},
     "output_type": "execute_result"
    }
   ],
   "source": [
    "((y1-t_tnsr)**2).mean()"
   ]
  },
  {
   "cell_type": "code",
   "execution_count": 127,
   "metadata": {},
   "outputs": [
    {
     "data": {
      "text/plain": [
       "tensor(0.0060, grad_fn=<DivBackward0>)"
      ]
     },
     "execution_count": 127,
     "metadata": {},
     "output_type": "execute_result"
    }
   ],
   "source": [
    "((y1[0,0]-t_tnsr[0])**2 + (y1[1,0]-t_tnsr[1])**2 + (y1[2,0]-t_tnsr[2])**2)/3"
   ]
  },
  {
   "cell_type": "code",
   "execution_count": 129,
   "metadata": {},
   "outputs": [
    {
     "data": {
      "text/plain": [
       "0.6763722896575928"
      ]
     },
     "execution_count": 129,
     "metadata": {},
     "output_type": "execute_result"
    }
   ],
   "source": [
    "err.item()"
   ]
  },
  {
   "cell_type": "code",
   "execution_count": 146,
   "metadata": {},
   "outputs": [],
   "source": [
    "x = torch.tensor([[i for j in range(3)] for i in range(6)], dtype=torch.float32)\n",
    "y = torch.tensor([[i] for i in range(6)], dtype=torch.float32)"
   ]
  },
  {
   "cell_type": "code",
   "execution_count": 147,
   "metadata": {},
   "outputs": [],
   "source": [
    "class myDataset(Dataset):\n",
    "    def __init__(self, x, y):\n",
    "        super().__init__()\n",
    "        self.f = x\n",
    "        self.t = y\n",
    "    def __len__(self):\n",
    "        return len(self.f)\n",
    "    def __getitem__(self, idx):\n",
    "        sample = (self.f[idx], self.t[idx])\n",
    "        return sample"
   ]
  },
  {
   "cell_type": "code",
   "execution_count": 148,
   "metadata": {},
   "outputs": [
    {
     "name": "stdout",
     "output_type": "stream",
     "text": [
      "(tensor([[1., 1., 1.],\n",
      "        [2., 2., 2.]]), tensor([[1.],\n",
      "        [2.]]))\n"
     ]
    }
   ],
   "source": [
    "myDset = myDataset(x, y)\n",
    "print(myDset[1:3])"
   ]
  },
  {
   "cell_type": "code",
   "execution_count": 149,
   "metadata": {},
   "outputs": [
    {
     "name": "stdout",
     "output_type": "stream",
     "text": [
      "[tensor([[0., 0., 0.],\n",
      "        [4., 4., 4.]]), tensor([[0.],\n",
      "        [4.]])]\n",
      "[tensor([[1., 1., 1.],\n",
      "        [3., 3., 3.]]), tensor([[1.],\n",
      "        [3.]])]\n",
      "[tensor([[5., 5., 5.],\n",
      "        [2., 2., 2.]]), tensor([[5.],\n",
      "        [2.]])]\n"
     ]
    }
   ],
   "source": [
    "myloader = DataLoader(myDset, batch_size=2, shuffle=1)\n",
    "for i, d in enumerate(myloader):\n",
    "    print(d)"
   ]
  },
  {
   "cell_type": "code",
   "execution_count": 152,
   "metadata": {},
   "outputs": [
    {
     "data": {
      "text/plain": [
       "tensor([[ 0.2637],\n",
       "        [-0.4225],\n",
       "        [-1.1086]], grad_fn=<AddmmBackward0>)"
      ]
     },
     "execution_count": 152,
     "metadata": {},
     "output_type": "execute_result"
    }
   ],
   "source": [
    "l3 = nn.Linear(3,1)\n",
    "l3((myDset[0:3][0]))"
   ]
  },
  {
   "cell_type": "code",
   "execution_count": null,
   "metadata": {},
   "outputs": [],
   "source": []
  }
 ],
 "metadata": {
  "kernelspec": {
   "display_name": "Python 3",
   "language": "python",
   "name": "python3"
  },
  "language_info": {
   "codemirror_mode": {
    "name": "ipython",
    "version": 3
   },
   "file_extension": ".py",
   "mimetype": "text/x-python",
   "name": "python",
   "nbconvert_exporter": "python",
   "pygments_lexer": "ipython3",
   "version": "3.9.13"
  }
 },
 "nbformat": 4,
 "nbformat_minor": 2
}
