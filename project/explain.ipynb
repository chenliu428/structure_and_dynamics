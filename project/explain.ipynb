{
 "cells": [
  {
   "cell_type": "markdown",
   "metadata": {},
   "source": [
    "# Introduction\n",
    "\n",
    "Python programs are stored in [PyCode](./PyCode/) and the datasets for training is stored in [DATA/Training_data](./DATA/Training_data/). Training results are saved in [DATA/Results_data](./DATA/Results_data/), as some trainig program lasts quite long and training results are saved for saparated requests, such as comparing, plotting etc. \n",
    "\n",
    "Inside [PyCode](./PyCode/), programs can be devided into two categories: 1. programs for major tasks, such as training different models or plotting results. 2. programs where are stored functionalities called by major tasking programs. Major task programs could be called in a terminal from the location \"./project/\" to realize various tasks, for example:\n",
    "```\n",
    "python3 ./PyCode/particle_clustering.py\n",
    "```\n",
    "\n",
    "Here is the list of programs within each category and a brief description of their use:\n",
    "\n",
    "- Major task category:\n",
    "    1. [particle_clustering.py](./PyCode/particle_clustering.py) - drawing the [propensity map](../README.md#fig1).\n",
    "    2. [GaussianLH_Panelty_RidgeLasso_MAP.py](./PyCode/GaussianLH_Panelty_RidgeLasso_MAP.py) - MAP linear model training and plotting results.\n",
    "    3. [GaussianLH_Panelty_Ridge_Bayes.py](./PyCode/GaussianLH_Panelty_Ridge_Bayes.py) - Bayesian linear model traingin and plotting results.\n",
    "    4. [DeepLearning_MLP.py](./PyCode/DeepLearning_MLP.py) - training multi-layer perpectron (MLP) neron-network, with customered architecture and plotting information about training processes.\n",
    "    5. [Compare_Pearson.py](./PyCode/Compare_Pearson.py) - compare the performance of all trained models, which have their training results filed ready in [DATA/Results_data](./DATA/Results_data/), in terms of the Pearson coeffcient, applied on randomly retrieved traininig dataset.\n",
    "- Functionality Support:\n",
    "    1. [data_read.py](./PyCode/data_read.py) - read and pre-clean the raw data, input /output training results.\n",
    "    2. [data_prep_crossvalid.py](./PyCode/data_prep_crossvalid.py) - prepare data for cross validation i.e. prepare random trials each containing a training set and a validation set.\n",
    "    3. [simpleLinearReg.py](./PyCode/simpleLinearReg.py) - core functionalities for linear regressions.\n",
    "    4. [DeepLearning_Functionalities.py](./PyCode/DeepLearning_Functionalities.py) - as the name suggests.\n",
    "    5. [plot_tools.py](./PyCode/plot_tools.py) - yes, you guess.\n",
    "\n",
    "> [!CAUTION]\n",
    "> Remember to comment out lines related with file saving functions when calling model training scripts: [GaussianLH_Panelty_RidgeLasso_MAP.py](./PyCode/GaussianLH_Panelty_RidgeLasso_MAP.py), [GaussianLH_Panelty_Ridge_Bayes.py](./PyCode/GaussianLH_Panelty_Ridge_Bayes.py), and [DeepLearning_MLP.py](./PyCode/DeepLearning_MLP.py) to avoid overwriting if not desired. No protection mechanism is implemented. File saving instructions usually involvs the function \"save_to_file_a_dictrionary\".\n",
    "\n",
    "# Dataset \\& Data Cleaning\n",
    "\n",
    "Raw dataset are placed in [./DATA/Training_data/](./DATA/Training_data/). We here dispose three datasets that correspond to three different physical conditions. The results exhibited here are only training results from 'Cnf2.xy'. The choice of dataset to train the models can be opted within each program that will be discussed below. \n",
    "\n",
    "In each program, the functionality of loading data from a raw dataset and of cleaning the data to be ready for training, is implemented in [data_read.py](./PyCode/data_read.py). Cleaning the raw data means igonoring input features that vary very little or does not vary from data point to data point. A customer criterion is chosen to drop off a feature, if its data point to data point standared deviation is below that criterion."
   ]
  },
  {
   "cell_type": "markdown",
   "metadata": {},
   "source": [
    "# Draw the propensity map\n",
    "\n",
    "One can gain an intuition of how does the propensities look like for a given configuration, by running the code in the following box. In the source code, one can also uncommend lines to perform clustering of particles based on their posistions and propensities."
   ]
  },
  {
   "cell_type": "code",
   "execution_count": null,
   "metadata": {},
   "outputs": [],
   "source": [
    "%run PyCode/particle_clustering.py"
   ]
  },
  {
   "cell_type": "markdown",
   "metadata": {},
   "source": [
    "# MAP Linear Models Training \\& Ploting Training Results\n",
    "\n",
    "## Training\n",
    "- To perform MAP-Ridge, MAP-Lasso, and MAP-Debias on the same dataset and save the training results into files, call in a terminal \n",
    "```\n",
    "python3 PyCode/GaussianLH_Panelty_RidgeLasso_MAP.py --mode='t'\n",
    "```\n",
    "It will generate training results and save them in [DATA/Results_data](./DATA/Results_data/). \n",
    "\n",
    "- Training parameters can be tuned in the function \"main_MAP_RidgeLassoDebias_SaveToFile\".\n",
    "\n",
    "## Plotting from saved files\n",
    "\n",
    "- To plot MAP linear regression results saved post training, run the script by calling\n",
    "```\n",
    "run PyCode/GaussianLH_Panelty_RidgeLasso_MAP.py\n",
    "```\n",
    "in an interactive python console, such ipython, to show the figure, which are not saved in file. \n",
    "\n",
    "- Run the follow code box here to generate the same figures, as [Fig2](../README.md#fig2) in [README.md](../README.md)."
   ]
  },
  {
   "cell_type": "code",
   "execution_count": null,
   "metadata": {},
   "outputs": [],
   "source": [
    "%run PyCode/GaussianLH_Panelty_RidgeLasso_MAP.py"
   ]
  },
  {
   "cell_type": "markdown",
   "metadata": {},
   "source": [
    "# Bayesian-Ridge\n",
    "\n",
    "Run the code box right below to realise Bayesian-ridge training, saving training results to file and plotting the results directly. It generates Fig.3 and Fig.5 in [README.md](../README.md).\n",
    "\n",
    "Both MAP-ridge and Bayes-ridge inverses the observation matrix to train the model. In MAP-ridge, standard libary such as \"numpy.linalg.inv\" are used. It works fairly good with the dataset and the penalty values studied.\n",
    "\n",
    "In Bayes-ridge, instead of using standard rountines called by MAP-ridge, such as \"numpy.linalg.inv\", which may cause numerical instabilities due to the large size of the matrix and the large values of some entries, we followed a procedure of firstly finding eigenvalues and eigenvectors of the matrix by calling \"numpy.linalg.eigh\" and secondly computing the inverse based on the eigenvectors and the inverse of eigenvalues. The related code is in [simpleLinearReg.py](./PyCode/simpleLinearReg.py). "
   ]
  },
  {
   "cell_type": "code",
   "execution_count": null,
   "metadata": {},
   "outputs": [],
   "source": [
    "%run PyCode/GaussianLH_Panelty_Ridge_Bayes.py"
   ]
  },
  {
   "cell_type": "markdown",
   "metadata": {},
   "source": [
    "# Compare weights from all MAP treatments\n",
    "\n",
    "Run the following code box to generate Fig.4 in [README.md](../README.md)."
   ]
  },
  {
   "cell_type": "code",
   "execution_count": null,
   "metadata": {},
   "outputs": [],
   "source": [
    "%run PyCode/plot_tools.py\n",
    "Plots = Plot_LinearRegressionResult_FromFile()"
   ]
  },
  {
   "cell_type": "markdown",
   "metadata": {},
   "source": [
    "# Multi-Layer Perceptrons (MLP)\n",
    "\n",
    "- Execute in termimal \"python3 PyCode/DeepLearning_MLP.py\" or \"%run PyCode/DeepLearning_MLP.py\" in a notebook environment to train a MLP model and to plot the error monitor (Fig.6 of [README.md](../README.md)). The architecture is specified in the main function of the script [DeepLearning_MLP.py](./PyCode/DeepLearning_MLP.py).\n",
    "\n",
    "- Run the code box right below to generate Fig.7 and Fig.8 of [README.md](../README.md)."
   ]
  },
  {
   "cell_type": "code",
   "execution_count": null,
   "metadata": {},
   "outputs": [],
   "source": [
    "%run PyCode/Compare_Pearson.py"
   ]
  }
 ],
 "metadata": {
  "kernelspec": {
   "display_name": "Python 3",
   "language": "python",
   "name": "python3"
  },
  "language_info": {
   "codemirror_mode": {
    "name": "ipython",
    "version": 3
   },
   "file_extension": ".py",
   "mimetype": "text/x-python",
   "name": "python",
   "nbconvert_exporter": "python",
   "pygments_lexer": "ipython3",
   "version": "3.9.13"
  }
 },
 "nbformat": 4,
 "nbformat_minor": 2
}
